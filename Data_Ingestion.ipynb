{
 "cells": [
  {
   "cell_type": "markdown",
   "id": "41dbeb8d",
   "metadata": {},
   "source": [
    "<b>Data Ingestion</b>"
   ]
  },
  {
   "cell_type": "markdown",
   "id": "b704168e",
   "metadata": {},
   "source": [
    "Install Dask and PyYAML"
   ]
  },
  {
   "cell_type": "code",
   "execution_count": 1,
   "id": "55de1b3a",
   "metadata": {},
   "outputs": [
    {
     "name": "stdout",
     "output_type": "stream",
     "text": [
      "Collecting dask\n",
      "  Obtaining dependency information for dask from https://files.pythonhosted.org/packages/07/93/32d3e317fec6d0fc130284f922ad9bd13d9ae0d52245e6ff6e57647e924c/dask-2023.5.0-py3-none-any.whl.metadata\n",
      "  Downloading dask-2023.5.0-py3-none-any.whl.metadata (3.6 kB)\n",
      "Requirement already satisfied: click>=8.0 in c:\\users\\msavg\\anaconda3\\envs\\learn-env\\lib\\site-packages (from dask) (8.1.7)\n",
      "Collecting cloudpickle>=1.5.0 (from dask)\n",
      "  Downloading cloudpickle-2.2.1-py3-none-any.whl (25 kB)\n",
      "Collecting fsspec>=2021.09.0 (from dask)\n",
      "  Obtaining dependency information for fsspec>=2021.09.0 from https://files.pythonhosted.org/packages/fe/d3/e1aa96437d944fbb9cc95d0316e25583886e9cd9e6adc07baad943524eda/fsspec-2023.9.2-py3-none-any.whl.metadata\n",
      "  Downloading fsspec-2023.9.2-py3-none-any.whl.metadata (6.7 kB)\n",
      "Requirement already satisfied: packaging>=20.0 in c:\\users\\msavg\\anaconda3\\envs\\learn-env\\lib\\site-packages (from dask) (23.1)\n",
      "Collecting partd>=1.2.0 (from dask)\n",
      "  Obtaining dependency information for partd>=1.2.0 from https://files.pythonhosted.org/packages/11/8a/b7a58e208b144a7315208a0dd627e23f5f50b47fa89c2924bb2e9238ecfb/partd-1.4.1-py3-none-any.whl.metadata\n",
      "  Downloading partd-1.4.1-py3-none-any.whl.metadata (4.6 kB)\n",
      "Requirement already satisfied: pyyaml>=5.3.1 in c:\\users\\msavg\\anaconda3\\envs\\learn-env\\lib\\site-packages (from dask) (6.0)\n",
      "Requirement already satisfied: toolz>=0.10.0 in c:\\users\\msavg\\anaconda3\\envs\\learn-env\\lib\\site-packages (from dask) (0.12.0)\n",
      "Requirement already satisfied: importlib-metadata>=4.13.0 in c:\\users\\msavg\\anaconda3\\envs\\learn-env\\lib\\site-packages (from dask) (6.0.0)\n",
      "Requirement already satisfied: colorama in c:\\users\\msavg\\anaconda3\\envs\\learn-env\\lib\\site-packages (from click>=8.0->dask) (0.4.3)\n",
      "Requirement already satisfied: zipp>=0.5 in c:\\users\\msavg\\anaconda3\\envs\\learn-env\\lib\\site-packages (from importlib-metadata>=4.13.0->dask) (3.11.0)\n",
      "Collecting locket (from partd>=1.2.0->dask)\n",
      "  Downloading locket-1.0.0-py2.py3-none-any.whl (4.4 kB)\n",
      "Downloading dask-2023.5.0-py3-none-any.whl (1.2 MB)\n",
      "   ---------------------------------------- 0.0/1.2 MB ? eta -:--:--\n",
      "   ------------- -------------------------- 0.4/1.2 MB 8.5 MB/s eta 0:00:01\n",
      "   ------------------------ --------------- 0.7/1.2 MB 7.4 MB/s eta 0:00:01\n",
      "   -------------------------------------- - 1.1/1.2 MB 7.9 MB/s eta 0:00:01\n",
      "   ---------------------------------------- 1.2/1.2 MB 6.8 MB/s eta 0:00:00\n",
      "Downloading fsspec-2023.9.2-py3-none-any.whl (173 kB)\n",
      "   ---------------------------------------- 0.0/173.4 kB ? eta -:--:--\n",
      "   ---------------------------------------- 173.4/173.4 kB 5.3 MB/s eta 0:00:00\n",
      "Downloading partd-1.4.1-py3-none-any.whl (18 kB)\n",
      "Installing collected packages: locket, fsspec, cloudpickle, partd, dask\n",
      "Successfully installed cloudpickle-2.2.1 dask-2023.5.0 fsspec-2023.9.2 locket-1.0.0 partd-1.4.1\n",
      "Note: you may need to restart the kernel to use updated packages.\n"
     ]
    },
    {
     "name": "stderr",
     "output_type": "stream",
     "text": [
      "WARNING: Error parsing requirements for numpy: [Errno 2] No such file or directory: 'c:\\\\users\\\\msavg\\\\anaconda3\\\\envs\\\\learn-env\\\\lib\\\\site-packages\\\\numpy-1.18.5.dist-info\\\\METADATA'\n"
     ]
    }
   ],
   "source": [
    "pip install dask"
   ]
  },
  {
   "cell_type": "code",
   "execution_count": 2,
   "id": "90c514a6",
   "metadata": {},
   "outputs": [
    {
     "name": "stdout",
     "output_type": "stream",
     "text": [
      "Requirement already satisfied: pyyaml in c:\\users\\msavg\\anaconda3\\envs\\learn-env\\lib\\site-packages (6.0)\n",
      "Note: you may need to restart the kernel to use updated packages.\n"
     ]
    },
    {
     "name": "stderr",
     "output_type": "stream",
     "text": [
      "WARNING: Error parsing requirements for numpy: [Errno 2] No such file or directory: 'c:\\\\users\\\\msavg\\\\anaconda3\\\\envs\\\\learn-env\\\\lib\\\\site-packages\\\\numpy-1.18.5.dist-info\\\\METADATA'\n"
     ]
    }
   ],
   "source": [
    "pip install pyyaml"
   ]
  },
  {
   "cell_type": "markdown",
   "id": "be6d1d77",
   "metadata": {},
   "source": [
    "<b>Read the CSV and text file</b>"
   ]
  },
  {
   "cell_type": "code",
   "execution_count": 3,
   "id": "4feb2b05",
   "metadata": {},
   "outputs": [],
   "source": [
    "import pandas as pd\n",
    "import dask.dataframe as dd\n",
    "\n",
    "# Using Pandas\n",
    "pandas_df = pd.read_csv('Episodes.csv')\n",
    "\n",
    "# Using Dask\n",
    "dask_df = dd.read_csv('Episodes.csv')"
   ]
  },
  {
   "cell_type": "markdown",
   "id": "42b9a8fa",
   "metadata": {},
   "source": [
    "Check first 5 rows of Dataframe"
   ]
  },
  {
   "cell_type": "code",
   "execution_count": 4,
   "id": "9f411cd7",
   "metadata": {},
   "outputs": [
    {
     "data": {
      "text/html": [
       "<div>\n",
       "<style scoped>\n",
       "    .dataframe tbody tr th:only-of-type {\n",
       "        vertical-align: middle;\n",
       "    }\n",
       "\n",
       "    .dataframe tbody tr th {\n",
       "        vertical-align: top;\n",
       "    }\n",
       "\n",
       "    .dataframe thead th {\n",
       "        text-align: right;\n",
       "    }\n",
       "</style>\n",
       "<table border=\"1\" class=\"dataframe\">\n",
       "  <thead>\n",
       "    <tr style=\"text-align: right;\">\n",
       "      <th></th>\n",
       "      <th>Id</th>\n",
       "      <th>Type</th>\n",
       "      <th>CompetitionId</th>\n",
       "      <th>CreateTime</th>\n",
       "      <th>EndTime</th>\n",
       "    </tr>\n",
       "  </thead>\n",
       "  <tbody>\n",
       "    <tr>\n",
       "      <th>0</th>\n",
       "      <td>43</td>\n",
       "      <td>1</td>\n",
       "      <td>17203</td>\n",
       "      <td>11/20/2019 22:27:31</td>\n",
       "      <td>11/20/2019 22:27:34</td>\n",
       "    </tr>\n",
       "    <tr>\n",
       "      <th>1</th>\n",
       "      <td>44</td>\n",
       "      <td>1</td>\n",
       "      <td>17203</td>\n",
       "      <td>11/20/2019 22:34:29</td>\n",
       "      <td>11/20/2019 22:34:32</td>\n",
       "    </tr>\n",
       "    <tr>\n",
       "      <th>2</th>\n",
       "      <td>45</td>\n",
       "      <td>1</td>\n",
       "      <td>17203</td>\n",
       "      <td>11/20/2019 22:35:02</td>\n",
       "      <td>11/20/2019 22:35:05</td>\n",
       "    </tr>\n",
       "    <tr>\n",
       "      <th>3</th>\n",
       "      <td>46</td>\n",
       "      <td>1</td>\n",
       "      <td>17203</td>\n",
       "      <td>11/20/2019 22:35:02</td>\n",
       "      <td>11/20/2019 22:35:11</td>\n",
       "    </tr>\n",
       "    <tr>\n",
       "      <th>4</th>\n",
       "      <td>47</td>\n",
       "      <td>1</td>\n",
       "      <td>17203</td>\n",
       "      <td>11/20/2019 22:35:02</td>\n",
       "      <td>11/20/2019 22:35:09</td>\n",
       "    </tr>\n",
       "  </tbody>\n",
       "</table>\n",
       "</div>"
      ],
      "text/plain": [
       "   Id  Type  CompetitionId           CreateTime              EndTime\n",
       "0  43     1          17203  11/20/2019 22:27:31  11/20/2019 22:27:34\n",
       "1  44     1          17203  11/20/2019 22:34:29  11/20/2019 22:34:32\n",
       "2  45     1          17203  11/20/2019 22:35:02  11/20/2019 22:35:05\n",
       "3  46     1          17203  11/20/2019 22:35:02  11/20/2019 22:35:11\n",
       "4  47     1          17203  11/20/2019 22:35:02  11/20/2019 22:35:09"
      ]
     },
     "execution_count": 4,
     "metadata": {},
     "output_type": "execute_result"
    }
   ],
   "source": [
    "pandas_df.head()"
   ]
  },
  {
   "cell_type": "code",
   "execution_count": 6,
   "id": "3de83a4e",
   "metadata": {},
   "outputs": [
    {
     "data": {
      "text/plain": [
       "False    52657727\n",
       "Name: count, dtype: int64"
      ]
     },
     "execution_count": 6,
     "metadata": {},
     "output_type": "execute_result"
    }
   ],
   "source": [
    "pandas_df.duplicated().value_counts()"
   ]
  },
  {
   "cell_type": "code",
   "execution_count": 7,
   "id": "db898e03",
   "metadata": {},
   "outputs": [
    {
     "data": {
      "text/html": [
       "<div>\n",
       "<style scoped>\n",
       "    .dataframe tbody tr th:only-of-type {\n",
       "        vertical-align: middle;\n",
       "    }\n",
       "\n",
       "    .dataframe tbody tr th {\n",
       "        vertical-align: top;\n",
       "    }\n",
       "\n",
       "    .dataframe thead th {\n",
       "        text-align: right;\n",
       "    }\n",
       "</style>\n",
       "<table border=\"1\" class=\"dataframe\">\n",
       "  <thead>\n",
       "    <tr style=\"text-align: right;\">\n",
       "      <th></th>\n",
       "      <th>Id</th>\n",
       "      <th>Type</th>\n",
       "      <th>CompetitionId</th>\n",
       "      <th>CreateTime</th>\n",
       "      <th>EndTime</th>\n",
       "    </tr>\n",
       "  </thead>\n",
       "  <tbody>\n",
       "    <tr>\n",
       "      <th>0</th>\n",
       "      <td>43</td>\n",
       "      <td>1</td>\n",
       "      <td>17203</td>\n",
       "      <td>11/20/2019 22:27:31</td>\n",
       "      <td>11/20/2019 22:27:34</td>\n",
       "    </tr>\n",
       "    <tr>\n",
       "      <th>1</th>\n",
       "      <td>44</td>\n",
       "      <td>1</td>\n",
       "      <td>17203</td>\n",
       "      <td>11/20/2019 22:34:29</td>\n",
       "      <td>11/20/2019 22:34:32</td>\n",
       "    </tr>\n",
       "    <tr>\n",
       "      <th>2</th>\n",
       "      <td>45</td>\n",
       "      <td>1</td>\n",
       "      <td>17203</td>\n",
       "      <td>11/20/2019 22:35:02</td>\n",
       "      <td>11/20/2019 22:35:05</td>\n",
       "    </tr>\n",
       "    <tr>\n",
       "      <th>3</th>\n",
       "      <td>46</td>\n",
       "      <td>1</td>\n",
       "      <td>17203</td>\n",
       "      <td>11/20/2019 22:35:02</td>\n",
       "      <td>11/20/2019 22:35:11</td>\n",
       "    </tr>\n",
       "    <tr>\n",
       "      <th>4</th>\n",
       "      <td>47</td>\n",
       "      <td>1</td>\n",
       "      <td>17203</td>\n",
       "      <td>11/20/2019 22:35:02</td>\n",
       "      <td>11/20/2019 22:35:09</td>\n",
       "    </tr>\n",
       "  </tbody>\n",
       "</table>\n",
       "</div>"
      ],
      "text/plain": [
       "   Id  Type  CompetitionId           CreateTime              EndTime\n",
       "0  43     1          17203  11/20/2019 22:27:31  11/20/2019 22:27:34\n",
       "1  44     1          17203  11/20/2019 22:34:29  11/20/2019 22:34:32\n",
       "2  45     1          17203  11/20/2019 22:35:02  11/20/2019 22:35:05\n",
       "3  46     1          17203  11/20/2019 22:35:02  11/20/2019 22:35:11\n",
       "4  47     1          17203  11/20/2019 22:35:02  11/20/2019 22:35:09"
      ]
     },
     "execution_count": 7,
     "metadata": {},
     "output_type": "execute_result"
    }
   ],
   "source": [
    "dask_df.head()"
   ]
  },
  {
   "cell_type": "code",
   "execution_count": 16,
   "id": "1db3b2f0",
   "metadata": {},
   "outputs": [],
   "source": [
    "# Remove special characters and white spaces from column names\n",
    "pandas_df.columns = pandas_df.columns.str.replace('[^a-zA-Z0-9]', '', regex=True)"
   ]
  },
  {
   "cell_type": "markdown",
   "id": "c52597f0",
   "metadata": {},
   "source": [
    "Create a YAML File"
   ]
  },
  {
   "cell_type": "code",
   "execution_count": 17,
   "id": "c1584af1",
   "metadata": {},
   "outputs": [],
   "source": [
    "import yaml\n",
    "\n",
    "# Define the separator and column names\n",
    "yaml_data = {\n",
    "    'separator': '|',\n",
    "    'columns': pandas_df.columns.tolist()\n",
    "}\n",
    "\n",
    "# Write the YAML file\n",
    "with open('schema.yaml', 'w') as yaml_file:\n",
    "    yaml.dump(yaml_data, yaml_file)\n"
   ]
  },
  {
   "cell_type": "markdown",
   "id": "30c025a5",
   "metadata": {},
   "source": [
    "Validate Columns and Column Names"
   ]
  },
  {
   "cell_type": "code",
   "execution_count": 18,
   "id": "b6954d4c",
   "metadata": {},
   "outputs": [
    {
     "name": "stdout",
     "output_type": "stream",
     "text": [
      "Number of columns match the schema.\n",
      "Column names match the schema.\n"
     ]
    }
   ],
   "source": [
    "# Read the YAML file\n",
    "with open('schema.yaml', 'r') as yaml_file:\n",
    "    schema_data = yaml.safe_load(yaml_file)\n",
    "\n",
    "# Check number of columns\n",
    "if len(pandas_df.columns) == len(schema_data['columns']):\n",
    "    print(\"Number of columns match the schema.\")\n",
    "else:\n",
    "    print(\"Number of columns do not match the schema.\")\n",
    "\n",
    "# Check if column names match the schema\n",
    "if set(pandas_df.columns) == set(schema_data['columns']):\n",
    "    print(\"Column names match the schema.\")\n",
    "else:\n",
    "    print(\"Column names do not match the schema.\")\n"
   ]
  },
  {
   "cell_type": "markdown",
   "id": "fe826bfb",
   "metadata": {},
   "source": [
    "Write .gz text file"
   ]
  },
  {
   "cell_type": "code",
   "execution_count": 19,
   "id": "0449bbdb",
   "metadata": {},
   "outputs": [],
   "source": [
    "pandas_df.to_csv('output_file.txt.gz', sep='|', compression='gzip', index=False)"
   ]
  },
  {
   "cell_type": "markdown",
   "id": "5f09a1a6",
   "metadata": {},
   "source": [
    "Summary of File"
   ]
  },
  {
   "cell_type": "code",
   "execution_count": 20,
   "id": "d671319c",
   "metadata": {},
   "outputs": [
    {
     "name": "stdout",
     "output_type": "stream",
     "text": [
      "Total number of rows: 52657727\n",
      "Total number of columns: 5\n",
      "File size: 269339475 bytes\n"
     ]
    }
   ],
   "source": [
    "# Total number of rows\n",
    "total_rows = len(pandas_df)\n",
    "\n",
    "# Total number of columns\n",
    "total_columns = len(pandas_df.columns)\n",
    "\n",
    "# File size\n",
    "import os\n",
    "file_size = os.path.getsize('output_file.txt.gz')\n",
    "\n",
    "print(f\"Total number of rows: {total_rows}\")\n",
    "print(f\"Total number of columns: {total_columns}\")\n",
    "print(f\"File size: {file_size} bytes\")\n"
   ]
  },
  {
   "cell_type": "code",
   "execution_count": null,
   "id": "48c07198",
   "metadata": {},
   "outputs": [],
   "source": []
  }
 ],
 "metadata": {
  "kernelspec": {
   "display_name": "Python (learn-env)",
   "language": "python",
   "name": "learn-env"
  },
  "language_info": {
   "codemirror_mode": {
    "name": "ipython",
    "version": 3
   },
   "file_extension": ".py",
   "mimetype": "text/x-python",
   "name": "python",
   "nbconvert_exporter": "python",
   "pygments_lexer": "ipython3",
   "version": "3.8.5"
  }
 },
 "nbformat": 4,
 "nbformat_minor": 5
}
